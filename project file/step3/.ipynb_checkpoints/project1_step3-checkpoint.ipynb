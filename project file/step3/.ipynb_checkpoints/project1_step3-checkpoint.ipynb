{
 "cells": [
  {
   "cell_type": "code",
   "execution_count": 147,
   "metadata": {
    "colab": {
     "base_uri": "https://localhost:8080/",
     "height": 223
    },
    "executionInfo": {
     "elapsed": 532,
     "status": "ok",
     "timestamp": 1627498882795,
     "user": {
      "displayName": "Parto Shahroodi",
      "photoUrl": "https://lh3.googleusercontent.com/a-/AOh14GgVRnuIKtxzeAYtLGbbb7NnFc-HXqxuTOJ6OMw7uw=s64",
      "userId": "08853559073941204272"
     },
     "user_tz": -270
    },
    "id": "5zNJ61fR4cfU",
    "outputId": "37214551-b638-45d6-be7c-2af2fe1372f0"
   },
   "outputs": [
    {
     "data": {
      "text/html": [
       "<div>\n",
       "<style scoped>\n",
       "    .dataframe tbody tr th:only-of-type {\n",
       "        vertical-align: middle;\n",
       "    }\n",
       "\n",
       "    .dataframe tbody tr th {\n",
       "        vertical-align: top;\n",
       "    }\n",
       "\n",
       "    .dataframe thead th {\n",
       "        text-align: right;\n",
       "    }\n",
       "</style>\n",
       "<table border=\"1\" class=\"dataframe\">\n",
       "  <thead>\n",
       "    <tr style=\"text-align: right;\">\n",
       "      <th></th>\n",
       "      <th>Company</th>\n",
       "      <th>Specific Bean Origin</th>\n",
       "      <th>Review Date</th>\n",
       "      <th>Cocoa Percent</th>\n",
       "      <th>Company Location</th>\n",
       "      <th>Rating</th>\n",
       "      <th>Bean Type</th>\n",
       "      <th>Broad Bean Origin</th>\n",
       "      <th>price(100g)</th>\n",
       "    </tr>\n",
       "  </thead>\n",
       "  <tbody>\n",
       "    <tr>\n",
       "      <th>0</th>\n",
       "      <td>A. Morin</td>\n",
       "      <td>Agua Grande</td>\n",
       "      <td>2016</td>\n",
       "      <td>63.0</td>\n",
       "      <td>France</td>\n",
       "      <td>75.0</td>\n",
       "      <td>Blend</td>\n",
       "      <td>Sao Tome</td>\n",
       "      <td>118125.0</td>\n",
       "    </tr>\n",
       "    <tr>\n",
       "      <th>1</th>\n",
       "      <td>A. Morin</td>\n",
       "      <td>Kpime</td>\n",
       "      <td>2015</td>\n",
       "      <td>70.0</td>\n",
       "      <td>France</td>\n",
       "      <td>55.0</td>\n",
       "      <td>Blend</td>\n",
       "      <td>Togo</td>\n",
       "      <td>96250.0</td>\n",
       "    </tr>\n",
       "    <tr>\n",
       "      <th>2</th>\n",
       "      <td>A. Morin</td>\n",
       "      <td>Atsane</td>\n",
       "      <td>2015</td>\n",
       "      <td>70.0</td>\n",
       "      <td>France</td>\n",
       "      <td>60.0</td>\n",
       "      <td>Blend</td>\n",
       "      <td>Togo</td>\n",
       "      <td>105000.0</td>\n",
       "    </tr>\n",
       "    <tr>\n",
       "      <th>3</th>\n",
       "      <td>A. Morin</td>\n",
       "      <td>Akata</td>\n",
       "      <td>2015</td>\n",
       "      <td>70.0</td>\n",
       "      <td>France</td>\n",
       "      <td>70.0</td>\n",
       "      <td>Blend</td>\n",
       "      <td>Togo</td>\n",
       "      <td>122500.0</td>\n",
       "    </tr>\n",
       "    <tr>\n",
       "      <th>4</th>\n",
       "      <td>A. Morin</td>\n",
       "      <td>Quilla</td>\n",
       "      <td>2015</td>\n",
       "      <td>70.0</td>\n",
       "      <td>France</td>\n",
       "      <td>70.0</td>\n",
       "      <td>Blend</td>\n",
       "      <td>Peru</td>\n",
       "      <td>122500.0</td>\n",
       "    </tr>\n",
       "  </tbody>\n",
       "</table>\n",
       "</div>"
      ],
      "text/plain": [
       "    Company Specific Bean Origin  Review Date  Cocoa Percent Company Location  \\\n",
       "0  A. Morin          Agua Grande         2016           63.0           France   \n",
       "1  A. Morin                Kpime         2015           70.0           France   \n",
       "2  A. Morin               Atsane         2015           70.0           France   \n",
       "3  A. Morin                Akata         2015           70.0           France   \n",
       "4  A. Morin               Quilla         2015           70.0           France   \n",
       "\n",
       "   Rating Bean Type Broad Bean Origin  price(100g)  \n",
       "0    75.0     Blend          Sao Tome     118125.0  \n",
       "1    55.0     Blend              Togo      96250.0  \n",
       "2    60.0     Blend              Togo     105000.0  \n",
       "3    70.0     Blend              Togo     122500.0  \n",
       "4    70.0     Blend              Peru     122500.0  "
      ]
     },
     "execution_count": 147,
     "metadata": {},
     "output_type": "execute_result"
    }
   ],
   "source": [
    "import numpy as np\n",
    "import pandas as pd\n",
    "\n",
    "df = pd.read_csv('chocolate_price.csv')\n",
    "df.head()"
   ]
  },
  {
   "cell_type": "code",
   "execution_count": 148,
   "metadata": {},
   "outputs": [],
   "source": [
    "m = pd.DataFrame(df[df['Cocoa Percent']<=70])\n",
    "df = m.reset_index()\n",
    "df.drop(['index'],axis=1,inplace=True)"
   ]
  },
  {
   "cell_type": "code",
   "execution_count": 149,
   "metadata": {
    "colab": {
     "base_uri": "https://localhost:8080/",
     "height": 423
    },
    "executionInfo": {
     "elapsed": 594,
     "status": "ok",
     "timestamp": 1627498890111,
     "user": {
      "displayName": "Parto Shahroodi",
      "photoUrl": "https://lh3.googleusercontent.com/a-/AOh14GgVRnuIKtxzeAYtLGbbb7NnFc-HXqxuTOJ6OMw7uw=s64",
      "userId": "08853559073941204272"
     },
     "user_tz": -270
    },
    "id": "ZUhHGdTcGcUs",
    "outputId": "e94f7d1b-e5e9-4946-8cca-45ef6880283c"
   },
   "outputs": [],
   "source": [
    "companies = df.groupby(['Company','Review Date'])['Rating'].mean().unstack()"
   ]
  },
  {
   "cell_type": "code",
   "execution_count": 150,
   "metadata": {},
   "outputs": [],
   "source": [
    "companies.columns.name = None\n",
    "companies.index.name = None"
   ]
  },
  {
   "cell_type": "code",
   "execution_count": 151,
   "metadata": {
    "colab": {
     "base_uri": "https://localhost:8080/"
    },
    "executionInfo": {
     "elapsed": 446,
     "status": "ok",
     "timestamp": 1627498961315,
     "user": {
      "displayName": "Parto Shahroodi",
      "photoUrl": "https://lh3.googleusercontent.com/a-/AOh14GgVRnuIKtxzeAYtLGbbb7NnFc-HXqxuTOJ6OMw7uw=s64",
      "userId": "08853559073941204272"
     },
     "user_tz": -270
    },
    "id": "fA-hFYchWhq8",
    "outputId": "39f233c9-037d-4982-9282-bac8e9270524"
   },
   "outputs": [],
   "source": [
    "mean_ratings = companies.iloc[:,-6:].mean(axis=1)"
   ]
  },
  {
   "cell_type": "code",
   "execution_count": 152,
   "metadata": {},
   "outputs": [],
   "source": [
    "new_mean=mean_ratings.copy()\n",
    "b=new_mean.reset_index()\n",
    "best_ratings = b.sort_values(by=[0,'index'],ascending=[False,True]).head(10)\n",
    "best_ratings.set_index('index',inplace=True)\n",
    "best_ratings.name = None\n",
    "best_ratings.index.name = None"
   ]
  },
  {
   "cell_type": "code",
   "execution_count": 153,
   "metadata": {
    "colab": {
     "base_uri": "https://localhost:8080/",
     "height": 1000
    },
    "executionInfo": {
     "elapsed": 383,
     "status": "ok",
     "timestamp": 1627461617410,
     "user": {
      "displayName": "Parto Shahroodi",
      "photoUrl": "https://lh3.googleusercontent.com/a-/AOh14GgVRnuIKtxzeAYtLGbbb7NnFc-HXqxuTOJ6OMw7uw=s64",
      "userId": "08853559073941204272"
     },
     "user_tz": -270
    },
    "id": "eBCbfxjd-Ps5",
    "outputId": "22c49c90-ca6c-407f-9eeb-7597dcc799ef"
   },
   "outputs": [],
   "source": [
    "a=best_ratings.index.tolist()\n",
    "b=df['Company'].isin(a)\n",
    "w=df[b]\n",
    "chocolates_to_sell = w.reset_index().drop('index',axis=1)"
   ]
  },
  {
   "cell_type": "code",
   "execution_count": 154,
   "metadata": {
    "colab": {
     "base_uri": "https://localhost:8080/"
    },
    "executionInfo": {
     "elapsed": 794,
     "status": "ok",
     "timestamp": 1627323016155,
     "user": {
      "displayName": "Parto Shahroodi",
      "photoUrl": "https://lh3.googleusercontent.com/a-/AOh14GgVRnuIKtxzeAYtLGbbb7NnFc-HXqxuTOJ6OMw7uw=s64",
      "userId": "08853559073941204272"
     },
     "user_tz": -270
    },
    "id": "WlUvsyfj_ijl",
    "outputId": "777be270-30d7-4d59-becd-c0bf27e5e97a"
   },
   "outputs": [],
   "source": [
    "priceSum = chocolates_to_sell['price(100g)'].sum()"
   ]
  }
 ],
 "metadata": {
  "colab": {
   "authorship_tag": "ABX9TyPsom0lLlC0TBmB6Rp+DZQC",
   "collapsed_sections": [],
   "name": "گام سوم.ipynb",
   "provenance": []
  },
  "kernelspec": {
   "display_name": "Python 3 (ipykernel)",
   "language": "python",
   "name": "python3"
  },
  "language_info": {
   "codemirror_mode": {
    "name": "ipython",
    "version": 3
   },
   "file_extension": ".py",
   "mimetype": "text/x-python",
   "name": "python",
   "nbconvert_exporter": "python",
   "pygments_lexer": "ipython3",
   "version": "3.11.9"
  },
  "vscode": {
   "interpreter": {
    "hash": "44e7e1b8fa2096bd5707ed7fd18b1724a2db25f4c565a7673f8b6e7bfc49d25d"
   }
  }
 },
 "nbformat": 4,
 "nbformat_minor": 4
}
